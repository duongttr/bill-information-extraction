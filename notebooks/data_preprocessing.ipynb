{
 "cells": [
  {
   "cell_type": "code",
   "execution_count": 1,
   "metadata": {},
   "outputs": [],
   "source": [
    "import glob\n",
    "import pandas as pd\n",
    "\n",
    "raw_tsv_file = glob.glob('../raw_data/*.tsv')"
   ]
  },
  {
   "cell_type": "code",
   "execution_count": 73,
   "metadata": {},
   "outputs": [
    {
     "name": "stdout",
     "output_type": "stream",
     "text": [
      "../raw_data/Hau.tsv\n",
      "../raw_data/Nguyen.tsv\n",
      "../raw_data/outputs2.tsv\n",
      "../raw_data/Khoi_4999.tsv\n",
      "../raw_data/kiet-2023-03-22.tsv\n"
     ]
    }
   ],
   "source": [
    "df_arr = []\n",
    "for fpath in raw_tsv_file:\n",
    "    print(fpath)\n",
    "    df_ = pd.read_csv(fpath, names=range(9))\n",
    "    # df_.drop(columns=0, inplace=True)\n",
    "    df_arr.append(df_)"
   ]
  },
  {
   "cell_type": "code",
   "execution_count": 90,
   "metadata": {},
   "outputs": [],
   "source": [
    "df = pd.concat(df_arr)"
   ]
  },
  {
   "cell_type": "code",
   "execution_count": 91,
   "metadata": {},
   "outputs": [],
   "source": [
    "df[3].replace({'NUMBER': 'PHONE', \n",
    "           'NUMBER_PREFIX': 'PHONE_PREFIX', \n",
    "           'AMOUT': 'AMOUNT',\n",
    "           'REMAMONEY_PREFIX-': 'REMAMONEY_PREFIX',\n",
    "           'FAX': 'OTHER',\n",
    "           'FAX_PREFIX': 'OTHER'}, inplace=True)"
   ]
  },
  {
   "cell_type": "code",
   "execution_count": 92,
   "metadata": {},
   "outputs": [],
   "source": [
    "df = df[~df[3].isin(['D', 'fa', 'a', 'ct'])]"
   ]
  },
  {
   "cell_type": "code",
   "execution_count": 93,
   "metadata": {},
   "outputs": [
    {
     "data": {
      "text/html": [
       "<div>\n",
       "<style scoped>\n",
       "    .dataframe tbody tr th:only-of-type {\n",
       "        vertical-align: middle;\n",
       "    }\n",
       "\n",
       "    .dataframe tbody tr th {\n",
       "        vertical-align: top;\n",
       "    }\n",
       "\n",
       "    .dataframe thead th {\n",
       "        text-align: right;\n",
       "    }\n",
       "</style>\n",
       "<table border=\"1\" class=\"dataframe\">\n",
       "  <thead>\n",
       "    <tr style=\"text-align: right;\">\n",
       "      <th></th>\n",
       "      <th>0</th>\n",
       "      <th>1</th>\n",
       "      <th>2</th>\n",
       "      <th>3</th>\n",
       "      <th>4</th>\n",
       "      <th>5</th>\n",
       "      <th>6</th>\n",
       "      <th>7</th>\n",
       "      <th>8</th>\n",
       "    </tr>\n",
       "  </thead>\n",
       "  <tbody>\n",
       "    <tr>\n",
       "      <th>0</th>\n",
       "      <td>win_IMG_4492_00_jpg.rf.456d89e6d48331d0a49919e...</td>\n",
       "      <td>1454</td>\n",
       "      <td>4068</td>\n",
       "      <td>TDISCOUNT</td>\n",
       "      <td>1097</td>\n",
       "      <td>2687</td>\n",
       "      <td>1301</td>\n",
       "      <td>2758</td>\n",
       "      <td>-43,200</td>\n",
       "    </tr>\n",
       "    <tr>\n",
       "      <th>1</th>\n",
       "      <td>win_IMG_4492_00_jpg.rf.456d89e6d48331d0a49919e...</td>\n",
       "      <td>1454</td>\n",
       "      <td>4068</td>\n",
       "      <td>RECEMONEY_PREFIX</td>\n",
       "      <td>53</td>\n",
       "      <td>2778</td>\n",
       "      <td>554</td>\n",
       "      <td>2874</td>\n",
       "      <td>TIỀN KHÁCH TRẢ</td>\n",
       "    </tr>\n",
       "    <tr>\n",
       "      <th>2</th>\n",
       "      <td>win_IMG_4492_00_jpg.rf.456d89e6d48331d0a49919e...</td>\n",
       "      <td>1454</td>\n",
       "      <td>4068</td>\n",
       "      <td>RECEMONEY</td>\n",
       "      <td>1088</td>\n",
       "      <td>2776</td>\n",
       "      <td>1290</td>\n",
       "      <td>2856</td>\n",
       "      <td>520,000</td>\n",
       "    </tr>\n",
       "    <tr>\n",
       "      <th>3</th>\n",
       "      <td>win_IMG_4492_00_jpg.rf.456d89e6d48331d0a49919e...</td>\n",
       "      <td>1454</td>\n",
       "      <td>4068</td>\n",
       "      <td>RECEMONEY</td>\n",
       "      <td>1088</td>\n",
       "      <td>2880</td>\n",
       "      <td>1297</td>\n",
       "      <td>2952</td>\n",
       "      <td>520,000</td>\n",
       "    </tr>\n",
       "    <tr>\n",
       "      <th>4</th>\n",
       "      <td>win_IMG_4492_00_jpg.rf.456d89e6d48331d0a49919e...</td>\n",
       "      <td>1454</td>\n",
       "      <td>4068</td>\n",
       "      <td>REMAMONEY</td>\n",
       "      <td>1157</td>\n",
       "      <td>2994</td>\n",
       "      <td>1301</td>\n",
       "      <td>3065</td>\n",
       "      <td>1,100</td>\n",
       "    </tr>\n",
       "    <tr>\n",
       "      <th>...</th>\n",
       "      <td>...</td>\n",
       "      <td>...</td>\n",
       "      <td>...</td>\n",
       "      <td>...</td>\n",
       "      <td>...</td>\n",
       "      <td>...</td>\n",
       "      <td>...</td>\n",
       "      <td>...</td>\n",
       "      <td>...</td>\n",
       "    </tr>\n",
       "    <tr>\n",
       "      <th>4598</th>\n",
       "      <td>bhx_IMG_4372_00_jpg.rf.b7c5503b74d8e6593c8ab1b...</td>\n",
       "      <td>1732</td>\n",
       "      <td>4018</td>\n",
       "      <td>OTHER</td>\n",
       "      <td>163</td>\n",
       "      <td>3752</td>\n",
       "      <td>1511</td>\n",
       "      <td>3934</td>\n",
       "      <td>Quý khách vui lòng xem chi tiết Chính sách đổi...</td>\n",
       "    </tr>\n",
       "    <tr>\n",
       "      <th>4599</th>\n",
       "      <td>bhx_IMG_4372_00_jpg.rf.b7c5503b74d8e6593c8ab1b...</td>\n",
       "      <td>1732</td>\n",
       "      <td>4018</td>\n",
       "      <td>TITLE</td>\n",
       "      <td>404</td>\n",
       "      <td>612</td>\n",
       "      <td>1204</td>\n",
       "      <td>758</td>\n",
       "      <td>PHIẾU THANH TOÁN</td>\n",
       "    </tr>\n",
       "    <tr>\n",
       "      <th>4600</th>\n",
       "      <td>bhx_IMG_4372_00_jpg.rf.b7c5503b74d8e6593c8ab1b...</td>\n",
       "      <td>1732</td>\n",
       "      <td>4018</td>\n",
       "      <td>PRODUCT_NAME</td>\n",
       "      <td>83</td>\n",
       "      <td>2014</td>\n",
       "      <td>613</td>\n",
       "      <td>2096</td>\n",
       "      <td>SƯỜN NON HEO</td>\n",
       "    </tr>\n",
       "    <tr>\n",
       "      <th>4601</th>\n",
       "      <td>bhx_IMG_4372_00_jpg.rf.b7c5503b74d8e6593c8ab1b...</td>\n",
       "      <td>1732</td>\n",
       "      <td>4018</td>\n",
       "      <td>SHOP_NAME</td>\n",
       "      <td>470</td>\n",
       "      <td>107</td>\n",
       "      <td>1133</td>\n",
       "      <td>261</td>\n",
       "      <td>BÁCH HÓA XANH</td>\n",
       "    </tr>\n",
       "    <tr>\n",
       "      <th>4602</th>\n",
       "      <td>bhx_IMG_4372_00_jpg.rf.b7c5503b74d8e6593c8ab1b...</td>\n",
       "      <td>1732</td>\n",
       "      <td>4018</td>\n",
       "      <td>OTHER</td>\n",
       "      <td>358</td>\n",
       "      <td>2790</td>\n",
       "      <td>1303</td>\n",
       "      <td>2886</td>\n",
       "      <td>(Giá trên đã bao gồm thuế GTGT)</td>\n",
       "    </tr>\n",
       "  </tbody>\n",
       "</table>\n",
       "<p>21388 rows × 9 columns</p>\n",
       "</div>"
      ],
      "text/plain": [
       "                                                      0     1     2  \\\n",
       "0     win_IMG_4492_00_jpg.rf.456d89e6d48331d0a49919e...  1454  4068   \n",
       "1     win_IMG_4492_00_jpg.rf.456d89e6d48331d0a49919e...  1454  4068   \n",
       "2     win_IMG_4492_00_jpg.rf.456d89e6d48331d0a49919e...  1454  4068   \n",
       "3     win_IMG_4492_00_jpg.rf.456d89e6d48331d0a49919e...  1454  4068   \n",
       "4     win_IMG_4492_00_jpg.rf.456d89e6d48331d0a49919e...  1454  4068   \n",
       "...                                                 ...   ...   ...   \n",
       "4598  bhx_IMG_4372_00_jpg.rf.b7c5503b74d8e6593c8ab1b...  1732  4018   \n",
       "4599  bhx_IMG_4372_00_jpg.rf.b7c5503b74d8e6593c8ab1b...  1732  4018   \n",
       "4600  bhx_IMG_4372_00_jpg.rf.b7c5503b74d8e6593c8ab1b...  1732  4018   \n",
       "4601  bhx_IMG_4372_00_jpg.rf.b7c5503b74d8e6593c8ab1b...  1732  4018   \n",
       "4602  bhx_IMG_4372_00_jpg.rf.b7c5503b74d8e6593c8ab1b...  1732  4018   \n",
       "\n",
       "                     3     4     5     6     7  \\\n",
       "0            TDISCOUNT  1097  2687  1301  2758   \n",
       "1     RECEMONEY_PREFIX    53  2778   554  2874   \n",
       "2            RECEMONEY  1088  2776  1290  2856   \n",
       "3            RECEMONEY  1088  2880  1297  2952   \n",
       "4            REMAMONEY  1157  2994  1301  3065   \n",
       "...                ...   ...   ...   ...   ...   \n",
       "4598             OTHER   163  3752  1511  3934   \n",
       "4599             TITLE   404   612  1204   758   \n",
       "4600      PRODUCT_NAME    83  2014   613  2096   \n",
       "4601         SHOP_NAME   470   107  1133   261   \n",
       "4602             OTHER   358  2790  1303  2886   \n",
       "\n",
       "                                                      8  \n",
       "0                                               -43,200  \n",
       "1                                        TIỀN KHÁCH TRẢ  \n",
       "2                                               520,000  \n",
       "3                                               520,000  \n",
       "4                                                 1,100  \n",
       "...                                                 ...  \n",
       "4598  Quý khách vui lòng xem chi tiết Chính sách đổi...  \n",
       "4599                                   PHIẾU THANH TOÁN  \n",
       "4600                                       SƯỜN NON HEO  \n",
       "4601                                      BÁCH HÓA XANH  \n",
       "4602                    (Giá trên đã bao gồm thuế GTGT)  \n",
       "\n",
       "[21388 rows x 9 columns]"
      ]
     },
     "execution_count": 93,
     "metadata": {},
     "output_type": "execute_result"
    }
   ],
   "source": [
    "df[~df[8].isna()]"
   ]
  },
  {
   "cell_type": "code",
   "execution_count": 94,
   "metadata": {},
   "outputs": [],
   "source": [
    "threshold = 10\n",
    "cnt = 0\n",
    "removed_cols = []\n",
    "for x, group in df.groupby(0):\n",
    "    if len(group[group[8].isna()]) > len(group[8]) // 2:\n",
    "        removed_cols.append(x)"
   ]
  },
  {
   "cell_type": "code",
   "execution_count": 95,
   "metadata": {},
   "outputs": [],
   "source": [
    "df = df[~df[0].isin(removed_cols)]"
   ]
  },
  {
   "cell_type": "code",
   "execution_count": 97,
   "metadata": {},
   "outputs": [],
   "source": [
    "df.to_csv('final.csv', index=False, header=['image','W','H','CLS','tlx', 'tly', 'brx', 'bry', 'text'])"
   ]
  },
  {
   "cell_type": "code",
   "execution_count": 98,
   "metadata": {},
   "outputs": [],
   "source": [
    "df_train = df.sample(frac=0.8)"
   ]
  },
  {
   "cell_type": "code",
   "execution_count": 99,
   "metadata": {},
   "outputs": [],
   "source": [
    "df_test = df.iloc[df.index.difference(df_train.index)]"
   ]
  },
  {
   "cell_type": "code",
   "execution_count": 101,
   "metadata": {},
   "outputs": [],
   "source": [
    "df_train.to_csv('train.csv', index=False, header=['image','W','H','CLS','tlx', 'tly', 'brx', 'bry', 'text'])\n",
    "df_test.to_csv('val.csv', index=False, header=['image','W','H','CLS','tlx', 'tly', 'brx', 'bry', 'text'])"
   ]
  },
  {
   "cell_type": "code",
   "execution_count": 25,
   "metadata": {},
   "outputs": [
    {
     "ename": "ValueError",
     "evalue": "Writing 10 cols but got 9 aliases",
     "output_type": "error",
     "traceback": [
      "\u001b[0;31m---------------------------------------------------------------------------\u001b[0m",
      "\u001b[0;31mValueError\u001b[0m                                Traceback (most recent call last)",
      "Cell \u001b[0;32mIn[25], line 1\u001b[0m\n\u001b[0;32m----> 1\u001b[0m df\u001b[39m.\u001b[39;49mto_csv(\u001b[39m'\u001b[39;49m\u001b[39mfinal.csv\u001b[39;49m\u001b[39m'\u001b[39;49m, index\u001b[39m=\u001b[39;49m\u001b[39mFalse\u001b[39;49;00m, header\u001b[39m=\u001b[39;49m[\u001b[39m'\u001b[39;49m\u001b[39mimage\u001b[39;49m\u001b[39m'\u001b[39;49m,\u001b[39m'\u001b[39;49m\u001b[39mW\u001b[39;49m\u001b[39m'\u001b[39;49m,\u001b[39m'\u001b[39;49m\u001b[39mH\u001b[39;49m\u001b[39m'\u001b[39;49m,\u001b[39m'\u001b[39;49m\u001b[39mCLS\u001b[39;49m\u001b[39m'\u001b[39;49m,\u001b[39m'\u001b[39;49m\u001b[39mtlx\u001b[39;49m\u001b[39m'\u001b[39;49m, \u001b[39m'\u001b[39;49m\u001b[39mtly\u001b[39;49m\u001b[39m'\u001b[39;49m, \u001b[39m'\u001b[39;49m\u001b[39mbrx\u001b[39;49m\u001b[39m'\u001b[39;49m, \u001b[39m'\u001b[39;49m\u001b[39mbry\u001b[39;49m\u001b[39m'\u001b[39;49m, \u001b[39m'\u001b[39;49m\u001b[39mtext\u001b[39;49m\u001b[39m'\u001b[39;49m])\n",
      "File \u001b[0;32m~/miniconda3/envs/bill_info_extract/lib/python3.10/site-packages/pandas/util/_decorators.py:211\u001b[0m, in \u001b[0;36mdeprecate_kwarg.<locals>._deprecate_kwarg.<locals>.wrapper\u001b[0;34m(*args, **kwargs)\u001b[0m\n\u001b[1;32m    209\u001b[0m     \u001b[39melse\u001b[39;00m:\n\u001b[1;32m    210\u001b[0m         kwargs[new_arg_name] \u001b[39m=\u001b[39m new_arg_value\n\u001b[0;32m--> 211\u001b[0m \u001b[39mreturn\u001b[39;00m func(\u001b[39m*\u001b[39;49margs, \u001b[39m*\u001b[39;49m\u001b[39m*\u001b[39;49mkwargs)\n",
      "File \u001b[0;32m~/miniconda3/envs/bill_info_extract/lib/python3.10/site-packages/pandas/core/generic.py:3720\u001b[0m, in \u001b[0;36mNDFrame.to_csv\u001b[0;34m(self, path_or_buf, sep, na_rep, float_format, columns, header, index, index_label, mode, encoding, compression, quoting, quotechar, lineterminator, chunksize, date_format, doublequote, escapechar, decimal, errors, storage_options)\u001b[0m\n\u001b[1;32m   3709\u001b[0m df \u001b[39m=\u001b[39m \u001b[39mself\u001b[39m \u001b[39mif\u001b[39;00m \u001b[39misinstance\u001b[39m(\u001b[39mself\u001b[39m, ABCDataFrame) \u001b[39melse\u001b[39;00m \u001b[39mself\u001b[39m\u001b[39m.\u001b[39mto_frame()\n\u001b[1;32m   3711\u001b[0m formatter \u001b[39m=\u001b[39m DataFrameFormatter(\n\u001b[1;32m   3712\u001b[0m     frame\u001b[39m=\u001b[39mdf,\n\u001b[1;32m   3713\u001b[0m     header\u001b[39m=\u001b[39mheader,\n\u001b[0;32m   (...)\u001b[0m\n\u001b[1;32m   3717\u001b[0m     decimal\u001b[39m=\u001b[39mdecimal,\n\u001b[1;32m   3718\u001b[0m )\n\u001b[0;32m-> 3720\u001b[0m \u001b[39mreturn\u001b[39;00m DataFrameRenderer(formatter)\u001b[39m.\u001b[39;49mto_csv(\n\u001b[1;32m   3721\u001b[0m     path_or_buf,\n\u001b[1;32m   3722\u001b[0m     lineterminator\u001b[39m=\u001b[39;49mlineterminator,\n\u001b[1;32m   3723\u001b[0m     sep\u001b[39m=\u001b[39;49msep,\n\u001b[1;32m   3724\u001b[0m     encoding\u001b[39m=\u001b[39;49mencoding,\n\u001b[1;32m   3725\u001b[0m     errors\u001b[39m=\u001b[39;49merrors,\n\u001b[1;32m   3726\u001b[0m     compression\u001b[39m=\u001b[39;49mcompression,\n\u001b[1;32m   3727\u001b[0m     quoting\u001b[39m=\u001b[39;49mquoting,\n\u001b[1;32m   3728\u001b[0m     columns\u001b[39m=\u001b[39;49mcolumns,\n\u001b[1;32m   3729\u001b[0m     index_label\u001b[39m=\u001b[39;49mindex_label,\n\u001b[1;32m   3730\u001b[0m     mode\u001b[39m=\u001b[39;49mmode,\n\u001b[1;32m   3731\u001b[0m     chunksize\u001b[39m=\u001b[39;49mchunksize,\n\u001b[1;32m   3732\u001b[0m     quotechar\u001b[39m=\u001b[39;49mquotechar,\n\u001b[1;32m   3733\u001b[0m     date_format\u001b[39m=\u001b[39;49mdate_format,\n\u001b[1;32m   3734\u001b[0m     doublequote\u001b[39m=\u001b[39;49mdoublequote,\n\u001b[1;32m   3735\u001b[0m     escapechar\u001b[39m=\u001b[39;49mescapechar,\n\u001b[1;32m   3736\u001b[0m     storage_options\u001b[39m=\u001b[39;49mstorage_options,\n\u001b[1;32m   3737\u001b[0m )\n",
      "File \u001b[0;32m~/miniconda3/envs/bill_info_extract/lib/python3.10/site-packages/pandas/util/_decorators.py:211\u001b[0m, in \u001b[0;36mdeprecate_kwarg.<locals>._deprecate_kwarg.<locals>.wrapper\u001b[0;34m(*args, **kwargs)\u001b[0m\n\u001b[1;32m    209\u001b[0m     \u001b[39melse\u001b[39;00m:\n\u001b[1;32m    210\u001b[0m         kwargs[new_arg_name] \u001b[39m=\u001b[39m new_arg_value\n\u001b[0;32m--> 211\u001b[0m \u001b[39mreturn\u001b[39;00m func(\u001b[39m*\u001b[39;49margs, \u001b[39m*\u001b[39;49m\u001b[39m*\u001b[39;49mkwargs)\n",
      "File \u001b[0;32m~/miniconda3/envs/bill_info_extract/lib/python3.10/site-packages/pandas/io/formats/format.py:1189\u001b[0m, in \u001b[0;36mDataFrameRenderer.to_csv\u001b[0;34m(self, path_or_buf, encoding, sep, columns, index_label, mode, compression, quoting, quotechar, lineterminator, chunksize, date_format, doublequote, escapechar, errors, storage_options)\u001b[0m\n\u001b[1;32m   1168\u001b[0m     created_buffer \u001b[39m=\u001b[39m \u001b[39mFalse\u001b[39;00m\n\u001b[1;32m   1170\u001b[0m csv_formatter \u001b[39m=\u001b[39m CSVFormatter(\n\u001b[1;32m   1171\u001b[0m     path_or_buf\u001b[39m=\u001b[39mpath_or_buf,\n\u001b[1;32m   1172\u001b[0m     lineterminator\u001b[39m=\u001b[39mlineterminator,\n\u001b[0;32m   (...)\u001b[0m\n\u001b[1;32m   1187\u001b[0m     formatter\u001b[39m=\u001b[39m\u001b[39mself\u001b[39m\u001b[39m.\u001b[39mfmt,\n\u001b[1;32m   1188\u001b[0m )\n\u001b[0;32m-> 1189\u001b[0m csv_formatter\u001b[39m.\u001b[39;49msave()\n\u001b[1;32m   1191\u001b[0m \u001b[39mif\u001b[39;00m created_buffer:\n\u001b[1;32m   1192\u001b[0m     \u001b[39massert\u001b[39;00m \u001b[39misinstance\u001b[39m(path_or_buf, StringIO)\n",
      "File \u001b[0;32m~/miniconda3/envs/bill_info_extract/lib/python3.10/site-packages/pandas/io/formats/csvs.py:261\u001b[0m, in \u001b[0;36mCSVFormatter.save\u001b[0;34m(self)\u001b[0m\n\u001b[1;32m    241\u001b[0m \u001b[39mwith\u001b[39;00m get_handle(\n\u001b[1;32m    242\u001b[0m     \u001b[39mself\u001b[39m\u001b[39m.\u001b[39mfilepath_or_buffer,\n\u001b[1;32m    243\u001b[0m     \u001b[39mself\u001b[39m\u001b[39m.\u001b[39mmode,\n\u001b[0;32m   (...)\u001b[0m\n\u001b[1;32m    249\u001b[0m \n\u001b[1;32m    250\u001b[0m     \u001b[39m# Note: self.encoding is irrelevant here\u001b[39;00m\n\u001b[1;32m    251\u001b[0m     \u001b[39mself\u001b[39m\u001b[39m.\u001b[39mwriter \u001b[39m=\u001b[39m csvlib\u001b[39m.\u001b[39mwriter(\n\u001b[1;32m    252\u001b[0m         handles\u001b[39m.\u001b[39mhandle,\n\u001b[1;32m    253\u001b[0m         lineterminator\u001b[39m=\u001b[39m\u001b[39mself\u001b[39m\u001b[39m.\u001b[39mlineterminator,\n\u001b[0;32m   (...)\u001b[0m\n\u001b[1;32m    258\u001b[0m         quotechar\u001b[39m=\u001b[39m\u001b[39mself\u001b[39m\u001b[39m.\u001b[39mquotechar,\n\u001b[1;32m    259\u001b[0m     )\n\u001b[0;32m--> 261\u001b[0m     \u001b[39mself\u001b[39;49m\u001b[39m.\u001b[39;49m_save()\n",
      "File \u001b[0;32m~/miniconda3/envs/bill_info_extract/lib/python3.10/site-packages/pandas/io/formats/csvs.py:265\u001b[0m, in \u001b[0;36mCSVFormatter._save\u001b[0;34m(self)\u001b[0m\n\u001b[1;32m    263\u001b[0m \u001b[39mdef\u001b[39;00m \u001b[39m_save\u001b[39m(\u001b[39mself\u001b[39m) \u001b[39m-\u001b[39m\u001b[39m>\u001b[39m \u001b[39mNone\u001b[39;00m:\n\u001b[1;32m    264\u001b[0m     \u001b[39mif\u001b[39;00m \u001b[39mself\u001b[39m\u001b[39m.\u001b[39m_need_to_save_header:\n\u001b[0;32m--> 265\u001b[0m         \u001b[39mself\u001b[39;49m\u001b[39m.\u001b[39;49m_save_header()\n\u001b[1;32m    266\u001b[0m     \u001b[39mself\u001b[39m\u001b[39m.\u001b[39m_save_body()\n",
      "File \u001b[0;32m~/miniconda3/envs/bill_info_extract/lib/python3.10/site-packages/pandas/io/formats/csvs.py:270\u001b[0m, in \u001b[0;36mCSVFormatter._save_header\u001b[0;34m(self)\u001b[0m\n\u001b[1;32m    268\u001b[0m \u001b[39mdef\u001b[39;00m \u001b[39m_save_header\u001b[39m(\u001b[39mself\u001b[39m) \u001b[39m-\u001b[39m\u001b[39m>\u001b[39m \u001b[39mNone\u001b[39;00m:\n\u001b[1;32m    269\u001b[0m     \u001b[39mif\u001b[39;00m \u001b[39mnot\u001b[39;00m \u001b[39mself\u001b[39m\u001b[39m.\u001b[39mhas_mi_columns \u001b[39mor\u001b[39;00m \u001b[39mself\u001b[39m\u001b[39m.\u001b[39m_has_aliases:\n\u001b[0;32m--> 270\u001b[0m         \u001b[39mself\u001b[39m\u001b[39m.\u001b[39mwriter\u001b[39m.\u001b[39mwriterow(\u001b[39mself\u001b[39;49m\u001b[39m.\u001b[39;49mencoded_labels)\n\u001b[1;32m    271\u001b[0m     \u001b[39melse\u001b[39;00m:\n\u001b[1;32m    272\u001b[0m         \u001b[39mfor\u001b[39;00m row \u001b[39min\u001b[39;00m \u001b[39mself\u001b[39m\u001b[39m.\u001b[39m_generate_multiindex_header_rows():\n",
      "File \u001b[0;32m~/miniconda3/envs/bill_info_extract/lib/python3.10/site-packages/pandas/io/formats/csvs.py:232\u001b[0m, in \u001b[0;36mCSVFormatter.encoded_labels\u001b[0;34m(self)\u001b[0m\n\u001b[1;32m    229\u001b[0m     encoded_labels \u001b[39m=\u001b[39m \u001b[39mlist\u001b[39m(\u001b[39mself\u001b[39m\u001b[39m.\u001b[39mindex_label)\n\u001b[1;32m    231\u001b[0m \u001b[39mif\u001b[39;00m \u001b[39mnot\u001b[39;00m \u001b[39mself\u001b[39m\u001b[39m.\u001b[39mhas_mi_columns \u001b[39mor\u001b[39;00m \u001b[39mself\u001b[39m\u001b[39m.\u001b[39m_has_aliases:\n\u001b[0;32m--> 232\u001b[0m     encoded_labels \u001b[39m+\u001b[39m\u001b[39m=\u001b[39m \u001b[39mlist\u001b[39m(\u001b[39mself\u001b[39;49m\u001b[39m.\u001b[39;49mwrite_cols)\n\u001b[1;32m    234\u001b[0m \u001b[39mreturn\u001b[39;00m encoded_labels\n",
      "File \u001b[0;32m~/miniconda3/envs/bill_info_extract/lib/python3.10/site-packages/pandas/io/formats/csvs.py:213\u001b[0m, in \u001b[0;36mCSVFormatter.write_cols\u001b[0;34m(self)\u001b[0m\n\u001b[1;32m    211\u001b[0m \u001b[39massert\u001b[39;00m \u001b[39mnot\u001b[39;00m \u001b[39misinstance\u001b[39m(\u001b[39mself\u001b[39m\u001b[39m.\u001b[39mheader, \u001b[39mbool\u001b[39m)\n\u001b[1;32m    212\u001b[0m \u001b[39mif\u001b[39;00m \u001b[39mlen\u001b[39m(\u001b[39mself\u001b[39m\u001b[39m.\u001b[39mheader) \u001b[39m!=\u001b[39m \u001b[39mlen\u001b[39m(\u001b[39mself\u001b[39m\u001b[39m.\u001b[39mcols):\n\u001b[0;32m--> 213\u001b[0m     \u001b[39mraise\u001b[39;00m \u001b[39mValueError\u001b[39;00m(\n\u001b[1;32m    214\u001b[0m         \u001b[39mf\u001b[39m\u001b[39m\"\u001b[39m\u001b[39mWriting \u001b[39m\u001b[39m{\u001b[39;00m\u001b[39mlen\u001b[39m(\u001b[39mself\u001b[39m\u001b[39m.\u001b[39mcols)\u001b[39m}\u001b[39;00m\u001b[39m cols but got \u001b[39m\u001b[39m{\u001b[39;00m\u001b[39mlen\u001b[39m(\u001b[39mself\u001b[39m\u001b[39m.\u001b[39mheader)\u001b[39m}\u001b[39;00m\u001b[39m aliases\u001b[39m\u001b[39m\"\u001b[39m\n\u001b[1;32m    215\u001b[0m     )\n\u001b[1;32m    216\u001b[0m \u001b[39melse\u001b[39;00m:\n\u001b[1;32m    217\u001b[0m     \u001b[39mreturn\u001b[39;00m \u001b[39mself\u001b[39m\u001b[39m.\u001b[39mheader\n",
      "\u001b[0;31mValueError\u001b[0m: Writing 10 cols but got 9 aliases"
     ]
    }
   ],
   "source": [
    "df.to_csv('final.csv', index=False, header=['image','W','H','CLS','tlx', 'tly', 'brx', 'bry', 'text'])"
   ]
  },
  {
   "cell_type": "code",
   "execution_count": 103,
   "metadata": {},
   "outputs": [],
   "source": [
    "import pandas as pd\n",
    "\n",
    "df = pd.read_csv('final.csv')"
   ]
  },
  {
   "cell_type": "code",
   "execution_count": 104,
   "metadata": {},
   "outputs": [],
   "source": [
    "df= df[~df.text.isna()]"
   ]
  },
  {
   "cell_type": "code",
   "execution_count": 105,
   "metadata": {},
   "outputs": [],
   "source": [
    "list_file = list(df.groupby('image'))"
   ]
  },
  {
   "cell_type": "code",
   "execution_count": 106,
   "metadata": {},
   "outputs": [],
   "source": [
    "import random\n",
    "random.shuffle(list_file)\n",
    "train=list_file[:int(len(list_file) * 0.8)]\n",
    "test=list_file[int(len(list_file) * 0.8):]"
   ]
  },
  {
   "cell_type": "code",
   "execution_count": 110,
   "metadata": {},
   "outputs": [],
   "source": [
    "new_df = {'size': [], 'ner_tags': [], 'tokens': [], 'bboxes': [], 'image': []}\n",
    "\n",
    "for img_name, sample in test:\n",
    "    new_df['size'].append(list(zip(sample['W'], sample['H'])))\n",
    "    new_df['ner_tags'].append(list(sample['CLS']))\n",
    "    new_df['bboxes'].append(list(zip(sample['tlx'],sample['tly'],sample['brx'],sample['bry'])))\n",
    "    new_df['image'].append(img_name)\n",
    "    new_df['tokens'].append(list(sample['text']))"
   ]
  },
  {
   "cell_type": "code",
   "execution_count": 111,
   "metadata": {},
   "outputs": [],
   "source": [
    "new_df_ = pd.DataFrame(new_df)\n",
    "new_df_.to_json('val.json', orient='records')"
   ]
  },
  {
   "cell_type": "code",
   "execution_count": 15,
   "metadata": {},
   "outputs": [],
   "source": [
    "new_df = {'size': [], 'ner_tags': [], 'tokens': [], 'bboxes': [], 'image': []}\n",
    "\n",
    "for img_name, sample in test:\n",
    "    new_df['size'].append(list(zip(sample['W'], sample['H'])))\n",
    "    new_df['ner_tags'].append(list(sample['CLS']))\n",
    "    new_df['bboxes'].append(list(zip(sample['tlx'],sample['tly'],sample['brx'],sample['bry'])))\n",
    "    new_df['image'].append(img_name)\n",
    "    new_df['tokens'].append(list(sample['text']))\n",
    "new_df_ = pd.DataFrame(new_df)\n",
    "new_df_.to_json('val.json', orient='records')"
   ]
  },
  {
   "cell_type": "code",
   "execution_count": 112,
   "metadata": {},
   "outputs": [
    {
     "data": {
      "text/plain": [
       "array(['TDISCOUNT', 'RECEMONEY_PREFIX', 'RECEMONEY', 'REMAMONEY', 'OTHER',\n",
       "       'PHONE_PREFIX', 'PHONE', 'SHOP_NAME', 'TAMOUNT_PREFIX',\n",
       "       'SUB_TPRICE', 'DATETIME_PREFIX', 'UPRICE', 'UNIT',\n",
       "       'PRODUCT_NAME_PREFIX', 'TPRICE_PREFIX', 'PRODUCT_NAME',\n",
       "       'UNIT_PREFIX', 'ADDR', 'BILLID', 'SUB_TPRICE_PREFIX', 'AMOUNT',\n",
       "       'TAMOUNT', 'CASHIER_PREFIX', 'BILLID_PREFIX', 'DATETIME', 'TITLE',\n",
       "       'UPRICE_PREFIX', 'TPRICE', 'CASHIER', 'AMOUNT_PREFIX',\n",
       "       'REMAMONEY_PREFIX', 'TDISCOUNT_PREFIX', 'FPRICE_PREFIX',\n",
       "       'ADDR_PREFIX', 'FPRICE', 'UDISCOUNT_PREFIX', 'UDISCOUNT'],\n",
       "      dtype=object)"
      ]
     },
     "execution_count": 112,
     "metadata": {},
     "output_type": "execute_result"
    }
   ],
   "source": [
    "df.CLS.unique()"
   ]
  },
  {
   "cell_type": "code",
   "execution_count": 121,
   "metadata": {},
   "outputs": [],
   "source": [
    "train_1_path = '/Users/jaydentran1909/Pet Projects/bill-information-extraction/val.json'\n",
    "train_2_path = '/Users/jaydentran1909/Pet Projects/bill-information-extraction/notebooks/val.json'"
   ]
  },
  {
   "cell_type": "code",
   "execution_count": 122,
   "metadata": {},
   "outputs": [],
   "source": [
    "import json"
   ]
  },
  {
   "cell_type": "code",
   "execution_count": 123,
   "metadata": {},
   "outputs": [],
   "source": [
    "with open(train_1_path, 'r') as f:\n",
    "    train_1 = json.load(f)"
   ]
  },
  {
   "cell_type": "code",
   "execution_count": 124,
   "metadata": {},
   "outputs": [],
   "source": [
    "with open(train_2_path, 'r') as f:\n",
    "    train_2 = json.load(f)"
   ]
  },
  {
   "cell_type": "code",
   "execution_count": 125,
   "metadata": {},
   "outputs": [],
   "source": [
    "final = train_1 + train_2"
   ]
  },
  {
   "cell_type": "code",
   "execution_count": 126,
   "metadata": {},
   "outputs": [],
   "source": [
    "json_obj = json.dumps(final)"
   ]
  },
  {
   "cell_type": "code",
   "execution_count": 127,
   "metadata": {},
   "outputs": [],
   "source": [
    "with open('final_val.json', 'w') as f:\n",
    "    f.write(json_obj)"
   ]
  },
  {
   "cell_type": "code",
   "execution_count": 120,
   "metadata": {},
   "outputs": [
    {
     "data": {
      "text/plain": [
       "758"
      ]
     },
     "execution_count": 120,
     "metadata": {},
     "output_type": "execute_result"
    }
   ],
   "source": [
    "len(final)"
   ]
  }
 ],
 "metadata": {
  "kernelspec": {
   "display_name": "bill_info_extract",
   "language": "python",
   "name": "python3"
  },
  "language_info": {
   "codemirror_mode": {
    "name": "ipython",
    "version": 3
   },
   "file_extension": ".py",
   "mimetype": "text/x-python",
   "name": "python",
   "nbconvert_exporter": "python",
   "pygments_lexer": "ipython3",
   "version": "3.10.9"
  },
  "orig_nbformat": 4
 },
 "nbformat": 4,
 "nbformat_minor": 2
}
