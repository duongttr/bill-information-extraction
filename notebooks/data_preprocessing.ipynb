{
 "cells": [
  {
   "cell_type": "code",
   "execution_count": 4,
   "metadata": {},
   "outputs": [],
   "source": [
    "import glob\n",
    "import pandas as pd\n",
    "\n",
    "raw_tsv_file = glob.glob('raw_data/*.tsv')"
   ]
  },
  {
   "cell_type": "code",
   "execution_count": 45,
   "metadata": {},
   "outputs": [
    {
     "name": "stdout",
     "output_type": "stream",
     "text": [
      "raw_data/Nguyen_outputs.tsv\n",
      "raw_data/Hau_outputs.tsv\n",
      "raw_data/Duong_outputs_1500_1999.tsv\n",
      "raw_data/kiet_output.tsv\n",
      "raw_data/Khoi_outputs_4122.tsv\n",
      "raw_data/Duong_outputs_remain.tsv\n",
      "raw_data/Duong_outputs_0_1499.tsv\n"
     ]
    }
   ],
   "source": [
    "df_arr = []\n",
    "for fpath in raw_tsv_file:\n",
    "    print(fpath)\n",
    "    df_ = pd.read_csv(fpath, names=range(9))\n",
    "    # df_.drop(columns=0, inplace=True)\n",
    "    df_arr.append(df_)"
   ]
  },
  {
   "cell_type": "code",
   "execution_count": 46,
   "metadata": {},
   "outputs": [],
   "source": [
    "df = pd.concat(df_arr)"
   ]
  },
  {
   "cell_type": "code",
   "execution_count": 47,
   "metadata": {},
   "outputs": [
    {
     "data": {
      "text/plain": [
       "array(['ADDR', 'NUMBER_PREFIX', 'TITLE', 'PRODUCT_NAME_PREFIX',\n",
       "       'PRODUCT_NAME', 'AMOUNT_PREFIX', 'AMOUNT', 'UNIT_PREFIX', 'UNIT',\n",
       "       'UPRICE_PREFIX', 'UPRICE', 'SUB_TPRICE_PREFIX', 'SUB_TPRICE',\n",
       "       'TAMOUNT_PREFIX', 'TAMOUNT', 'TPRICE_PREFIX', 'TPRICE',\n",
       "       'RECEMONEY_PREFIX', 'RECEMONEY', 'OTHER', 'BILLID_PREFIX',\n",
       "       'BILLID', 'DATETIME_PREFIX', 'DATETIME', 'CASHIER_PREFIX',\n",
       "       'CASHIER', 'SHOP_NAME', 'PHONE_PREFIX', 'FPRICE_PREFIX', 'FPRICE',\n",
       "       'REMAMONEY_PREFIX', 'REMAMONEY', 'PHONE', 'TDISCOUNT_PREFIX',\n",
       "       'TDISCOUNT', 'ADDR_PREFIX', 'NUMBER', 'FAX_PREFIX', 'FAX',\n",
       "       'UDISCOUNT_PREFIX', 'UDISCOUNT', 'D', 'fa', 'a', 'ct'],\n",
       "      dtype=object)"
      ]
     },
     "execution_count": 47,
     "metadata": {},
     "output_type": "execute_result"
    }
   ],
   "source": [
    "df[3].unique()"
   ]
  },
  {
   "cell_type": "code",
   "execution_count": 48,
   "metadata": {},
   "outputs": [],
   "source": [
    "df = df[~df[3].isin(['D', 'fa', 'a', 'ct'])]"
   ]
  },
  {
   "cell_type": "code",
   "execution_count": 68,
   "metadata": {},
   "outputs": [
    {
     "data": {
      "text/html": [
       "<div>\n",
       "<style scoped>\n",
       "    .dataframe tbody tr th:only-of-type {\n",
       "        vertical-align: middle;\n",
       "    }\n",
       "\n",
       "    .dataframe tbody tr th {\n",
       "        vertical-align: top;\n",
       "    }\n",
       "\n",
       "    .dataframe thead th {\n",
       "        text-align: right;\n",
       "    }\n",
       "</style>\n",
       "<table border=\"1\" class=\"dataframe\">\n",
       "  <thead>\n",
       "    <tr style=\"text-align: right;\">\n",
       "      <th></th>\n",
       "      <th>0</th>\n",
       "      <th>1</th>\n",
       "      <th>2</th>\n",
       "      <th>3</th>\n",
       "      <th>4</th>\n",
       "      <th>5</th>\n",
       "      <th>6</th>\n",
       "      <th>7</th>\n",
       "      <th>8</th>\n",
       "    </tr>\n",
       "  </thead>\n",
       "  <tbody>\n",
       "    <tr>\n",
       "      <th>0</th>\n",
       "      <td>mcocr_public_145014mdljs_jpg.rf.b795cdee97fec7...</td>\n",
       "      <td>640</td>\n",
       "      <td>640</td>\n",
       "      <td>ADDR</td>\n",
       "      <td>143</td>\n",
       "      <td>146</td>\n",
       "      <td>430</td>\n",
       "      <td>178</td>\n",
       "      <td>Chợ Sủi Phú Thị Gia Lâm</td>\n",
       "    </tr>\n",
       "    <tr>\n",
       "      <th>1</th>\n",
       "      <td>mcocr_public_145014mdljs_jpg.rf.b795cdee97fec7...</td>\n",
       "      <td>640</td>\n",
       "      <td>640</td>\n",
       "      <td>NUMBER_PREFIX</td>\n",
       "      <td>0</td>\n",
       "      <td>182</td>\n",
       "      <td>35</td>\n",
       "      <td>209</td>\n",
       "      <td>Tel:</td>\n",
       "    </tr>\n",
       "    <tr>\n",
       "      <th>2</th>\n",
       "      <td>mcocr_public_145014mdljs_jpg.rf.b795cdee97fec7...</td>\n",
       "      <td>640</td>\n",
       "      <td>640</td>\n",
       "      <td>TITLE</td>\n",
       "      <td>138</td>\n",
       "      <td>237</td>\n",
       "      <td>445</td>\n",
       "      <td>281</td>\n",
       "      <td>HÓA ĐƠN BÁN HÀNG</td>\n",
       "    </tr>\n",
       "    <tr>\n",
       "      <th>3</th>\n",
       "      <td>mcocr_public_145014mdljs_jpg.rf.b795cdee97fec7...</td>\n",
       "      <td>640</td>\n",
       "      <td>640</td>\n",
       "      <td>PRODUCT_NAME_PREFIX</td>\n",
       "      <td>19</td>\n",
       "      <td>286</td>\n",
       "      <td>127</td>\n",
       "      <td>318</td>\n",
       "      <td>Tên hàng</td>\n",
       "    </tr>\n",
       "    <tr>\n",
       "      <th>4</th>\n",
       "      <td>mcocr_public_145014mdljs_jpg.rf.b795cdee97fec7...</td>\n",
       "      <td>640</td>\n",
       "      <td>640</td>\n",
       "      <td>PRODUCT_NAME</td>\n",
       "      <td>14</td>\n",
       "      <td>326</td>\n",
       "      <td>521</td>\n",
       "      <td>360</td>\n",
       "      <td>8936123410032 sữa tắm gội trẻ em lactacyd N0</td>\n",
       "    </tr>\n",
       "    <tr>\n",
       "      <th>...</th>\n",
       "      <td>...</td>\n",
       "      <td>...</td>\n",
       "      <td>...</td>\n",
       "      <td>...</td>\n",
       "      <td>...</td>\n",
       "      <td>...</td>\n",
       "      <td>...</td>\n",
       "      <td>...</td>\n",
       "      <td>...</td>\n",
       "    </tr>\n",
       "    <tr>\n",
       "      <th>1496</th>\n",
       "      <td>mcocr_public_145014ohtbh_jpg.rf.9ae1b70bebe577...</td>\n",
       "      <td>640</td>\n",
       "      <td>640</td>\n",
       "      <td>OTHER</td>\n",
       "      <td>40</td>\n",
       "      <td>301</td>\n",
       "      <td>339</td>\n",
       "      <td>323</td>\n",
       "      <td>TỔNG TIỀN PHẢI T. TOÁN</td>\n",
       "    </tr>\n",
       "    <tr>\n",
       "      <th>1497</th>\n",
       "      <td>mcocr_public_145014ohtbh_jpg.rf.9ae1b70bebe577...</td>\n",
       "      <td>640</td>\n",
       "      <td>640</td>\n",
       "      <td>OTHER</td>\n",
       "      <td>34</td>\n",
       "      <td>322</td>\n",
       "      <td>289</td>\n",
       "      <td>342</td>\n",
       "      <td>TỔNG TIỀN ĐÃ GIẢM</td>\n",
       "    </tr>\n",
       "    <tr>\n",
       "      <th>1498</th>\n",
       "      <td>mcocr_public_145014ohtbh_jpg.rf.9ae1b70bebe577...</td>\n",
       "      <td>640</td>\n",
       "      <td>640</td>\n",
       "      <td>OTHER</td>\n",
       "      <td>34</td>\n",
       "      <td>341</td>\n",
       "      <td>237</td>\n",
       "      <td>358</td>\n",
       "      <td>TIỀN KHÁCH TRẢ</td>\n",
       "    </tr>\n",
       "    <tr>\n",
       "      <th>1499</th>\n",
       "      <td>mcocr_public_145014ohtbh_jpg.rf.9ae1b70bebe577...</td>\n",
       "      <td>640</td>\n",
       "      <td>640</td>\n",
       "      <td>OTHER</td>\n",
       "      <td>43</td>\n",
       "      <td>360</td>\n",
       "      <td>169</td>\n",
       "      <td>377</td>\n",
       "      <td>TIỀN MẶT</td>\n",
       "    </tr>\n",
       "    <tr>\n",
       "      <th>1500</th>\n",
       "      <td>mcocr_public_145014ohtbh_jpg.rf.9ae1b70bebe577...</td>\n",
       "      <td>640</td>\n",
       "      <td>640</td>\n",
       "      <td>OTHER</td>\n",
       "      <td>30</td>\n",
       "      <td>379</td>\n",
       "      <td>209</td>\n",
       "      <td>399</td>\n",
       "      <td>TIỀN TRẢ LẠI</td>\n",
       "    </tr>\n",
       "  </tbody>\n",
       "</table>\n",
       "<p>17833 rows × 9 columns</p>\n",
       "</div>"
      ],
      "text/plain": [
       "                                                      0    1    2  \\\n",
       "0     mcocr_public_145014mdljs_jpg.rf.b795cdee97fec7...  640  640   \n",
       "1     mcocr_public_145014mdljs_jpg.rf.b795cdee97fec7...  640  640   \n",
       "2     mcocr_public_145014mdljs_jpg.rf.b795cdee97fec7...  640  640   \n",
       "3     mcocr_public_145014mdljs_jpg.rf.b795cdee97fec7...  640  640   \n",
       "4     mcocr_public_145014mdljs_jpg.rf.b795cdee97fec7...  640  640   \n",
       "...                                                 ...  ...  ...   \n",
       "1496  mcocr_public_145014ohtbh_jpg.rf.9ae1b70bebe577...  640  640   \n",
       "1497  mcocr_public_145014ohtbh_jpg.rf.9ae1b70bebe577...  640  640   \n",
       "1498  mcocr_public_145014ohtbh_jpg.rf.9ae1b70bebe577...  640  640   \n",
       "1499  mcocr_public_145014ohtbh_jpg.rf.9ae1b70bebe577...  640  640   \n",
       "1500  mcocr_public_145014ohtbh_jpg.rf.9ae1b70bebe577...  640  640   \n",
       "\n",
       "                        3    4    5    6    7  \\\n",
       "0                    ADDR  143  146  430  178   \n",
       "1           NUMBER_PREFIX    0  182   35  209   \n",
       "2                   TITLE  138  237  445  281   \n",
       "3     PRODUCT_NAME_PREFIX   19  286  127  318   \n",
       "4            PRODUCT_NAME   14  326  521  360   \n",
       "...                   ...  ...  ...  ...  ...   \n",
       "1496                OTHER   40  301  339  323   \n",
       "1497                OTHER   34  322  289  342   \n",
       "1498                OTHER   34  341  237  358   \n",
       "1499                OTHER   43  360  169  377   \n",
       "1500                OTHER   30  379  209  399   \n",
       "\n",
       "                                                 8  \n",
       "0                          Chợ Sủi Phú Thị Gia Lâm  \n",
       "1                                             Tel:  \n",
       "2                                 HÓA ĐƠN BÁN HÀNG  \n",
       "3                                         Tên hàng  \n",
       "4     8936123410032 sữa tắm gội trẻ em lactacyd N0  \n",
       "...                                            ...  \n",
       "1496                        TỔNG TIỀN PHẢI T. TOÁN  \n",
       "1497                             TỔNG TIỀN ĐÃ GIẢM  \n",
       "1498                                TIỀN KHÁCH TRẢ  \n",
       "1499                                      TIỀN MẶT  \n",
       "1500                                  TIỀN TRẢ LẠI  \n",
       "\n",
       "[17833 rows x 9 columns]"
      ]
     },
     "execution_count": 68,
     "metadata": {},
     "output_type": "execute_result"
    }
   ],
   "source": [
    "df[~df[8].isna()]"
   ]
  },
  {
   "cell_type": "code",
   "execution_count": 75,
   "metadata": {},
   "outputs": [],
   "source": [
    "threshold = 10\n",
    "cnt = 0\n",
    "removed_cols = []\n",
    "for x, group in df.groupby(0):\n",
    "    if len(group[group[8].isna()]) > len(group[8]) // 2:\n",
    "        removed_cols.append(x)"
   ]
  },
  {
   "cell_type": "code",
   "execution_count": 79,
   "metadata": {},
   "outputs": [],
   "source": [
    "df = df[~df[0].isin(removed_cols)]"
   ]
  },
  {
   "cell_type": "code",
   "execution_count": 108,
   "metadata": {},
   "outputs": [],
   "source": [
    "df.reset_index(inplace=True)"
   ]
  },
  {
   "cell_type": "code",
   "execution_count": 109,
   "metadata": {},
   "outputs": [],
   "source": [
    "df_train = df.sample(frac=0.8)"
   ]
  },
  {
   "cell_type": "code",
   "execution_count": 113,
   "metadata": {},
   "outputs": [],
   "source": [
    "df_test = df.iloc[df.index.difference(df_train.index)]"
   ]
  },
  {
   "cell_type": "code",
   "execution_count": 118,
   "metadata": {},
   "outputs": [],
   "source": [
    "df_train.drop(columns='index').to_csv('train.csv', index=False, header=['image','W','H','CLS','tlx', 'tly', 'brx', 'bry', 'text'])\n",
    "df_test.drop(columns='index').to_csv('val.csv', index=False, header=['image','W','H','CLS','tlx', 'tly', 'brx', 'bry', 'text'])"
   ]
  },
  {
   "cell_type": "code",
   "execution_count": 83,
   "metadata": {},
   "outputs": [],
   "source": [
    "df.to_csv('final.csv', index=False, header=['image','W','H','CLS','tlx', 'tly', 'brx', 'bry', 'text'])"
   ]
  },
  {
   "cell_type": "code",
   "execution_count": 1,
   "metadata": {},
   "outputs": [],
   "source": [
    "import pandas as pd\n",
    "\n",
    "df = pd.read_csv('final.csv')"
   ]
  },
  {
   "cell_type": "code",
   "execution_count": 6,
   "metadata": {},
   "outputs": [],
   "source": [
    "df= df[~df.text.isna()]"
   ]
  },
  {
   "cell_type": "code",
   "execution_count": 9,
   "metadata": {},
   "outputs": [],
   "source": [
    "list_file = list(df.groupby('image'))"
   ]
  },
  {
   "cell_type": "code",
   "execution_count": 10,
   "metadata": {},
   "outputs": [],
   "source": [
    "import random\n",
    "random.shuffle(list_file)\n",
    "train=list_file[:int(len(list_file) * 0.8)]\n",
    "test=list_file[int(len(list_file) * 0.8):]"
   ]
  },
  {
   "cell_type": "code",
   "execution_count": 11,
   "metadata": {},
   "outputs": [],
   "source": [
    "new_df = {'size': [], 'ner_tags': [], 'tokens': [], 'bboxes': [], 'image': []}\n",
    "\n",
    "for img_name, sample in train:\n",
    "    new_df['size'].append(list(zip(sample['W'], sample['H'])))\n",
    "    new_df['ner_tags'].append(list(sample['CLS']))\n",
    "    new_df['bboxes'].append(list(zip(sample['tlx'],sample['tly'],sample['brx'],sample['bry'])))\n",
    "    new_df['image'].append(img_name)\n",
    "    new_df['tokens'].append(list(sample['text']))"
   ]
  },
  {
   "cell_type": "code",
   "execution_count": 14,
   "metadata": {},
   "outputs": [],
   "source": [
    "new_df_ = pd.DataFrame(new_df)\n",
    "new_df_.to_json('train.json', orient='records')"
   ]
  },
  {
   "cell_type": "code",
   "execution_count": 15,
   "metadata": {},
   "outputs": [],
   "source": [
    "new_df = {'size': [], 'ner_tags': [], 'tokens': [], 'bboxes': [], 'image': []}\n",
    "\n",
    "for img_name, sample in test:\n",
    "    new_df['size'].append(list(zip(sample['W'], sample['H'])))\n",
    "    new_df['ner_tags'].append(list(sample['CLS']))\n",
    "    new_df['bboxes'].append(list(zip(sample['tlx'],sample['tly'],sample['brx'],sample['bry'])))\n",
    "    new_df['image'].append(img_name)\n",
    "    new_df['tokens'].append(list(sample['text']))\n",
    "new_df_ = pd.DataFrame(new_df)\n",
    "new_df_.to_json('val.json', orient='records')"
   ]
  },
  {
   "cell_type": "code",
   "execution_count": 17,
   "metadata": {},
   "outputs": [
    {
     "data": {
      "text/plain": [
       "array(['ADDR', 'NUMBER_PREFIX', 'TITLE', 'PRODUCT_NAME_PREFIX',\n",
       "       'PRODUCT_NAME', 'AMOUNT_PREFIX', 'AMOUNT', 'UNIT_PREFIX', 'UNIT',\n",
       "       'UPRICE_PREFIX', 'UPRICE', 'SUB_TPRICE_PREFIX', 'SUB_TPRICE',\n",
       "       'TAMOUNT_PREFIX', 'TAMOUNT', 'TPRICE_PREFIX', 'TPRICE',\n",
       "       'RECEMONEY_PREFIX', 'RECEMONEY', 'OTHER', 'BILLID_PREFIX',\n",
       "       'BILLID', 'DATETIME_PREFIX', 'DATETIME', 'CASHIER_PREFIX',\n",
       "       'CASHIER', 'SHOP_NAME', 'PHONE_PREFIX', 'FPRICE_PREFIX', 'FPRICE',\n",
       "       'REMAMONEY_PREFIX', 'REMAMONEY', 'PHONE', 'TDISCOUNT_PREFIX',\n",
       "       'TDISCOUNT', 'ADDR_PREFIX', 'NUMBER', 'FAX_PREFIX', 'FAX',\n",
       "       'UDISCOUNT_PREFIX', 'UDISCOUNT'], dtype=object)"
      ]
     },
     "execution_count": 17,
     "metadata": {},
     "output_type": "execute_result"
    }
   ],
   "source": [
    "df.CLS.unique()"
   ]
  },
  {
   "cell_type": "code",
   "execution_count": null,
   "metadata": {},
   "outputs": [],
   "source": []
  }
 ],
 "metadata": {
  "kernelspec": {
   "display_name": "bill_info_extract",
   "language": "python",
   "name": "python3"
  },
  "language_info": {
   "codemirror_mode": {
    "name": "ipython",
    "version": 3
   },
   "file_extension": ".py",
   "mimetype": "text/x-python",
   "name": "python",
   "nbconvert_exporter": "python",
   "pygments_lexer": "ipython3",
   "version": "3.10.9"
  },
  "orig_nbformat": 4
 },
 "nbformat": 4,
 "nbformat_minor": 2
}
